{
 "cells": [
  {
   "cell_type": "code",
   "execution_count": 1,
   "metadata": {},
   "outputs": [
    {
     "name": "stdout",
     "output_type": "stream",
     "text": [
      "Archive:  public_test_sample.zip\n",
      "  inflating: data/public_test/json_labels/37303234365f3231.json  \n",
      "  inflating: data/public_test/json_labels/37303234365f3431.json  \n",
      "  inflating: data/public_test/json_labels/37303234365f3732.json  \n",
      "  inflating: data/public_test/labels/37303234365f3231.txt  \n",
      "  inflating: data/public_test/labels/37303234365f3431.txt  \n",
      " extracting: data/public_test/labels/37303234365f3732.txt  \n",
      "  inflating: data/public_test/songs/37303234365f3231.wav  \n",
      "  inflating: data/public_test/songs/37303234365f3431.wav  \n",
      "  inflating: data/public_test/songs/37303234365f3732.wav  \n"
     ]
    }
   ],
   "source": [
    "!mkdir data\n",
    "!unzip public_test_sample.zip -d data/public_test"
   ]
  },
  {
   "cell_type": "code",
   "execution_count": 2,
   "metadata": {},
   "outputs": [
    {
     "name": "stderr",
     "output_type": "stream",
     "text": [
      "/home/vnk/miniconda3/envs/lyric-test/lib/python3.8/site-packages/Bio/pairwise2.py:278: BiopythonDeprecationWarning: Bio.pairwise2 has been deprecated, and we intend to remove it in a future release of Biopython. As an alternative, please consider using Bio.Align.PairwiseAligner as a replacement, and contact the Biopython developers if you still need the Bio.pairwise2 module.\n",
      "  warnings.warn(\n"
     ]
    }
   ],
   "source": [
    "import os\n",
    "import csv\n",
    "import shutil\n",
    "from time import time\n",
    "from utils.process_label_to_txt import convert_txt\n",
    "from demucs_utils.seperate_vocal import separate\n",
    "from mfa.align import create_parser, run_align_corpus\n",
    "from mfa.src.postprocessing import post_process_helper"
   ]
  },
  {
   "cell_type": "code",
   "execution_count": 3,
   "metadata": {},
   "outputs": [],
   "source": [
    "PUBLIC_TEST = \"data/public_test\"\n",
    "SONG_RAW_DIR = \"data/public_test/songs\"\n",
    "RAW_LYRIC_JSON = \"data/public_test/json_labels\"\n",
    "\n",
    "SEPARATED_DATA_DIR = \"data/output\"\n",
    "PUBLIC_TEST_OUTPUT_RAW = \"data/output/public_test_raw\"\n",
    "OUTPUT_DIR = \"data/output/public_test_json\"\n",
    "DICTIONARY_PATH = \"mfa/models/vietnamese_mfa_dict_ver3.dict\"\n",
    "ACOUSTIC_MODEL_PATH = \"mfa/models/mfa_vn_vocal_train_combine_train_public_test.zip\"\n",
    "\n",
    "SUBMISSION_DIR = \"./result\"\n",
    "OUTPUT_FILE = \"./result/submission.zip\"\n",
    "OUTPUT_TIME_SUBMISSION = \"./result/time_submission.csv\"\n",
    "OUTPUT_JUPYTER_FILE = \"./result/jupyter_submission\""
   ]
  },
  {
   "cell_type": "code",
   "execution_count": 4,
   "metadata": {},
   "outputs": [
    {
     "data": {
      "text/plain": [
       "3"
      ]
     },
     "execution_count": 4,
     "metadata": {},
     "output_type": "execute_result"
    }
   ],
   "source": [
    "test_cases = os.listdir(SONG_RAW_DIR)\n",
    "len(test_cases)"
   ]
  },
  {
   "cell_type": "code",
   "execution_count": 5,
   "metadata": {},
   "outputs": [
    {
     "name": "stdout",
     "output_type": "stream",
     "text": [
      "Separate audio: data/public_test/songs/37303234365f3231.wav\n",
      "With command:  python -m demucs.separate -o data/output -n mdx_extra_q -j 2 --float32 --two-stems=vocals\n",
      "Selected model is a bag of 4 models. You will see that many progress bars per track.\n",
      "Separated tracks will be stored in /mnt/c/Users/Modern 14/projects/CTA-Zero9-ZAIC2022-Lyric-Alignment/data/output/mdx_extra_q\n",
      "Separating track data/public_test/songs/37303234365f3231.wav\n"
     ]
    },
    {
     "name": "stderr",
     "output_type": "stream",
     "text": [
      "100%|██████████████████████████████████████████████████████████████████████████| 33.0/33.0 [00:21<00:00,  1.55seconds/s]\n",
      "100%|██████████████████████████████████████████████████████████████████████████| 33.0/33.0 [00:24<00:00,  1.36seconds/s]\n",
      "100%|██████████████████████████████████████████████████████████████████████████| 33.0/33.0 [00:19<00:00,  1.66seconds/s]\n",
      "100%|██████████████████████████████████████████████████████████████████████████| 33.0/33.0 [00:39<00:00,  1.20s/seconds]\n",
      "ffmpeg version 5.1.2 Copyright (c) 2000-2022 the FFmpeg developers\n",
      "  built with gcc 10.4.0 (conda-forge gcc 10.4.0-18)\n",
      "  configuration: --prefix=/home/vnk/miniconda3/envs/lyric-test --cc=/home/conda/feedstock_root/build_artifacts/ffmpeg_1666357487580/_build_env/bin/x86_64-conda-linux-gnu-cc --cxx=/home/conda/feedstock_root/build_artifacts/ffmpeg_1666357487580/_build_env/bin/x86_64-conda-linux-gnu-c++ --nm=/home/conda/feedstock_root/build_artifacts/ffmpeg_1666357487580/_build_env/bin/x86_64-conda-linux-gnu-nm --ar=/home/conda/feedstock_root/build_artifacts/ffmpeg_1666357487580/_build_env/bin/x86_64-conda-linux-gnu-ar --disable-doc --disable-openssl --enable-demuxer=dash --enable-hardcoded-tables --enable-libfreetype --enable-libfontconfig --enable-libopenh264 --enable-gnutls --enable-libmp3lame --enable-libvpx --enable-pthreads --enable-vaapi --enable-gpl --enable-libx264 --enable-libx265 --enable-libaom --enable-libsvtav1 --enable-libxml2 --enable-pic --enable-shared --disable-static --enable-version3 --enable-zlib --pkg-config=/home/conda/feedstock_root/build_artifacts/ffmpeg_1666357487580/_build_env/bin/pkg-config\n",
      "  libavutil      57. 28.100 / 57. 28.100\n",
      "  libavcodec     59. 37.100 / 59. 37.100\n",
      "  libavformat    59. 27.100 / 59. 27.100\n",
      "  libavdevice    59.  7.100 / 59.  7.100\n",
      "  libavfilter     8. 44.100 /  8. 44.100\n",
      "  libswscale      6.  7.100 /  6.  7.100\n",
      "  libswresample   4.  7.100 /  4.  7.100\n",
      "  libpostproc    56.  6.100 / 56.  6.100\n",
      "Guessed Channel Layout for Input Stream #0.0 : stereo\n",
      "Input #0, wav, from 'data/output/mdx_extra_q/37303234365f3231/vocals.wav':\n",
      "  Duration: 00:00:18.29, bitrate: 2822 kb/s\n",
      "  Stream #0:0: Audio: pcm_f32le ([3][0][0][0] / 0x0003), 44100 Hz, stereo, flt, 2822 kb/s\n",
      "Stream mapping:\n",
      "  Stream #0:0 -> #0:0 (pcm_f32le (native) -> pcm_s16le (native))\n",
      "Press [q] to stop, [?] for help\n",
      "Output #0, wav, to 'data/output/mdx_extra_q/37303234365f3231/37303234365f3231/37303234365f3231.wav':\n",
      "  Metadata:\n",
      "    ISFT            : Lavf59.27.100\n",
      "  Stream #0:0: Audio: pcm_s16le ([1][0][0][0] / 0x0001), 16000 Hz, mono, s16, 256 kb/s\n",
      "    Metadata:\n",
      "      encoder         : Lavc59.37.100 pcm_s16le\n",
      "size=     572kB time=00:00:18.28 bitrate= 256.0kbits/s speed= 159x    \n",
      "video:0kB audio:572kB subtitle:0kB other streams:0kB global headers:0kB muxing overhead: 0.013328%\n"
     ]
    },
    {
     "ename": "TypeError",
     "evalue": "expected str, bytes or os.PathLike object, not NoneType",
     "output_type": "error",
     "traceback": [
      "\u001b[0;31m---------------------------------------------------------------------------\u001b[0m",
      "\u001b[0;31mTypeError\u001b[0m                                 Traceback (most recent call last)",
      "Cell \u001b[0;32mIn [5], line 17\u001b[0m\n\u001b[1;32m     15\u001b[0m t1 \u001b[39m=\u001b[39m time()\n\u001b[1;32m     16\u001b[0m args\u001b[39m.\u001b[39mcorpus_directory \u001b[39m=\u001b[39m separate_optimized_dir\n\u001b[0;32m---> 17\u001b[0m run_align_corpus(args, unknown)\n\u001b[1;32m     18\u001b[0m post_process_helper\u001b[39m.\u001b[39mpost_process_json(\n\u001b[1;32m     19\u001b[0m     file_name\u001b[39m=\u001b[39mfile_name[:\u001b[39m-\u001b[39m\u001b[39m4\u001b[39m], \n\u001b[1;32m     20\u001b[0m     raw_output\u001b[39m=\u001b[39mPUBLIC_TEST_OUTPUT_RAW, \n\u001b[1;32m     21\u001b[0m     raw_lyric\u001b[39m=\u001b[39mRAW_LYRIC_JSON,\n\u001b[1;32m     22\u001b[0m     output_dir\u001b[39m=\u001b[39mOUTPUT_DIR,\n\u001b[1;32m     23\u001b[0m )\n\u001b[1;32m     24\u001b[0m t2 \u001b[39m=\u001b[39m time()\n",
      "File \u001b[0;32m/mnt/c/Users/Modern 14/projects/CTA-Zero9-ZAIC2022-Lyric-Alignment/mfa/align.py:558\u001b[0m, in \u001b[0;36mrun_align_corpus\u001b[0;34m(args, unknown_args)\u001b[0m\n\u001b[1;32m    548\u001b[0m \u001b[39mdef\u001b[39;00m \u001b[39mrun_align_corpus\u001b[39m(args: Namespace, unknown_args: Optional[List[\u001b[39mstr\u001b[39m]] \u001b[39m=\u001b[39m \u001b[39mNone\u001b[39;00m) \u001b[39m-\u001b[39m\u001b[39m>\u001b[39m \u001b[39mNone\u001b[39;00m:\n\u001b[1;32m    549\u001b[0m     \u001b[39m\"\"\"\u001b[39;00m\n\u001b[1;32m    550\u001b[0m \u001b[39m    Wrapper function for running alignment\u001b[39;00m\n\u001b[1;32m    551\u001b[0m \u001b[39m    Parameters\u001b[39;00m\n\u001b[0;32m   (...)\u001b[0m\n\u001b[1;32m    556\u001b[0m \u001b[39m        Parsed command line arguments to be passed to the configuration objects\u001b[39;00m\n\u001b[1;32m    557\u001b[0m \u001b[39m    \"\"\"\u001b[39;00m\n\u001b[0;32m--> 558\u001b[0m     validate_args(args)\n\u001b[1;32m    559\u001b[0m     align_corpus(args, unknown_args)\n",
      "File \u001b[0;32m/mnt/c/Users/Modern 14/projects/CTA-Zero9-ZAIC2022-Lyric-Alignment/mfa/align.py:544\u001b[0m, in \u001b[0;36mvalidate_args\u001b[0;34m(args)\u001b[0m\n\u001b[1;32m    541\u001b[0m \u001b[39mif\u001b[39;00m args\u001b[39m.\u001b[39mcorpus_directory \u001b[39m==\u001b[39m args\u001b[39m.\u001b[39moutput_directory:\n\u001b[1;32m    542\u001b[0m     \u001b[39mraise\u001b[39;00m ArgumentError(\u001b[39m\"\u001b[39m\u001b[39mCorpus directory and output directory cannot be the same folder.\u001b[39m\u001b[39m\"\u001b[39m)\n\u001b[0;32m--> 544\u001b[0m args\u001b[39m.\u001b[39mdictionary_path \u001b[39m=\u001b[39m validate_model_arg(args\u001b[39m.\u001b[39;49mdictionary_path, \u001b[39m\"\u001b[39;49m\u001b[39mdictionary\u001b[39;49m\u001b[39m\"\u001b[39;49m)\n\u001b[1;32m    545\u001b[0m args\u001b[39m.\u001b[39macoustic_model_path \u001b[39m=\u001b[39m validate_model_arg(args\u001b[39m.\u001b[39macoustic_model_path, \u001b[39m\"\u001b[39m\u001b[39macoustic\u001b[39m\u001b[39m\"\u001b[39m)\n",
      "File \u001b[0;32m~/miniconda3/envs/lyric-test/lib/python3.8/site-packages/montreal_forced_aligner/command_line/utils.py:57\u001b[0m, in \u001b[0;36mvalidate_model_arg\u001b[0;34m(name, model_type)\u001b[0m\n\u001b[1;32m     55\u001b[0m \u001b[39mif\u001b[39;00m name \u001b[39min\u001b[39;00m available_models:\n\u001b[1;32m     56\u001b[0m     name \u001b[39m=\u001b[39m model_class\u001b[39m.\u001b[39mget_pretrained_path(name)\n\u001b[0;32m---> 57\u001b[0m \u001b[39melif\u001b[39;00m model_class\u001b[39m.\u001b[39;49mvalid_extension(name):\n\u001b[1;32m     58\u001b[0m     \u001b[39mif\u001b[39;00m \u001b[39mnot\u001b[39;00m os\u001b[39m.\u001b[39mpath\u001b[39m.\u001b[39mexists(name):\n\u001b[1;32m     59\u001b[0m         \u001b[39mraise\u001b[39;00m FileArgumentNotFoundError(name)\n",
      "File \u001b[0;32m~/miniconda3/envs/lyric-test/lib/python3.8/site-packages/montreal_forced_aligner/models.py:1068\u001b[0m, in \u001b[0;36mDictionaryModel.valid_extension\u001b[0;34m(cls, filename)\u001b[0m\n\u001b[1;32m   1053\u001b[0m \u001b[39m@classmethod\u001b[39m\n\u001b[1;32m   1054\u001b[0m \u001b[39mdef\u001b[39;00m \u001b[39mvalid_extension\u001b[39m(\u001b[39mcls\u001b[39m, filename: \u001b[39mstr\u001b[39m) \u001b[39m-\u001b[39m\u001b[39m>\u001b[39m \u001b[39mbool\u001b[39m:\n\u001b[1;32m   1055\u001b[0m     \u001b[39m\"\"\"\u001b[39;00m\n\u001b[1;32m   1056\u001b[0m \u001b[39m    Check whether a file has a valid extension for the given model archive\u001b[39;00m\n\u001b[1;32m   1057\u001b[0m \n\u001b[0;32m   (...)\u001b[0m\n\u001b[1;32m   1066\u001b[0m \u001b[39m        True if the extension matches the models allowed extensions\u001b[39;00m\n\u001b[1;32m   1067\u001b[0m \u001b[39m    \"\"\"\u001b[39;00m\n\u001b[0;32m-> 1068\u001b[0m     \u001b[39mif\u001b[39;00m os\u001b[39m.\u001b[39;49mpath\u001b[39m.\u001b[39;49msplitext(filename)[\u001b[39m1\u001b[39m] \u001b[39min\u001b[39;00m \u001b[39mcls\u001b[39m\u001b[39m.\u001b[39mextensions:\n\u001b[1;32m   1069\u001b[0m         \u001b[39mreturn\u001b[39;00m \u001b[39mTrue\u001b[39;00m\n\u001b[1;32m   1070\u001b[0m     \u001b[39mreturn\u001b[39;00m \u001b[39mFalse\u001b[39;00m\n",
      "File \u001b[0;32m~/miniconda3/envs/lyric-test/lib/python3.8/posixpath.py:118\u001b[0m, in \u001b[0;36msplitext\u001b[0;34m(p)\u001b[0m\n\u001b[1;32m    117\u001b[0m \u001b[39mdef\u001b[39;00m \u001b[39msplitext\u001b[39m(p):\n\u001b[0;32m--> 118\u001b[0m     p \u001b[39m=\u001b[39m os\u001b[39m.\u001b[39;49mfspath(p)\n\u001b[1;32m    119\u001b[0m     \u001b[39mif\u001b[39;00m \u001b[39misinstance\u001b[39m(p, \u001b[39mbytes\u001b[39m):\n\u001b[1;32m    120\u001b[0m         sep \u001b[39m=\u001b[39m \u001b[39mb\u001b[39m\u001b[39m'\u001b[39m\u001b[39m/\u001b[39m\u001b[39m'\u001b[39m\n",
      "\u001b[0;31mTypeError\u001b[0m: expected str, bytes or os.PathLike object, not NoneType"
     ]
    }
   ],
   "source": [
    "all_predicted_time = []\n",
    "parser = create_parser()\n",
    "args, unknown = parser.parse_known_args([\"align\"])\n",
    "args.dictionary_path =  DICTIONARY_PATH\n",
    "args.acoustic_model_path = ACOUSTIC_MODEL_PATH\n",
    "args.output_directory = PUBLIC_TEST_OUTPUT_RAW\n",
    "\n",
    "for file_name in test_cases:\n",
    "    t1 = time()\n",
    "    separate(os.path.join(SONG_RAW_DIR, file_name), SEPARATED_DATA_DIR)\n",
    "    current_dir_separate = os.path.join(SEPARATED_DATA_DIR, \"mdx_extra_q\", file_name[:-4])\n",
    "    separate_optimized_dir = os.path.join(current_dir_separate, file_name[:-4])\n",
    "    if not os.path.exists(separate_optimized_dir):\n",
    "        os.makedirs(separate_optimized_dir)\n",
    "    os.popen(\"ffmpeg -i {input} -ar 16000 -ac 1 -y {output}\".format(input=os.path.join(current_dir_separate, \"vocals.wav\"), output=os.path.join(separate_optimized_dir, file_name)))\n",
    "    convert_txt(file_name.replace(\"wav\", \"json\"), RAW_LYRIC_JSON, separate_optimized_dir)\n",
    "    args.corpus_directory = separate_optimized_dir\n",
    "    run_align_corpus(args, unknown)\n",
    "    post_process_helper.post_process_json(\n",
    "        file_name=file_name[:-4], \n",
    "        raw_output=PUBLIC_TEST_OUTPUT_RAW, \n",
    "        raw_lyric=RAW_LYRIC_JSON,\n",
    "        output_dir=OUTPUT_DIR,\n",
    "    )\n",
    "    t2 = time()\n",
    "    predicted_time = int(t2*1000 - t1*1000)\n",
    "    all_predicted_time.append((file_name, predicted_time))\n",
    "\n",
    "if not os.path.exists(SUBMISSION_DIR):\n",
    "    os.makedirs(SUBMISSION_DIR)\n",
    "    \n",
    "# Save time submission\n",
    "with open(OUTPUT_TIME_SUBMISSION, 'w') as f:\n",
    "    write = csv.writer(f)\n",
    "    fields = [\"fname\", \"time (millisecond)\"] \n",
    "    write.writerow(fields)\n",
    "    write.writerows(all_predicted_time)\n",
    "\n",
    "# Save jupyter submission\n",
    "shutil.make_archive(OUTPUT_JUPYTER_FILE, 'zip', OUTPUT_DIR)"
   ]
  }
 ],
 "metadata": {
  "kernelspec": {
   "display_name": "Python 3.8.15 ('lyric-test')",
   "language": "python",
   "name": "python3"
  },
  "language_info": {
   "codemirror_mode": {
    "name": "ipython",
    "version": 3
   },
   "file_extension": ".py",
   "mimetype": "text/x-python",
   "name": "python",
   "nbconvert_exporter": "python",
   "pygments_lexer": "ipython3",
   "version": "3.8.15"
  },
  "orig_nbformat": 4,
  "vscode": {
   "interpreter": {
    "hash": "cbfeadcb1881f5700240be4d1044f461d803bf2ac08cd4e065f5b04f28c70955"
   }
  }
 },
 "nbformat": 4,
 "nbformat_minor": 2
}
